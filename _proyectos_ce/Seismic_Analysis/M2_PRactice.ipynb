{
 "cells": [
  {
   "cell_type": "code",
   "execution_count": 1,
   "id": "22c22620",
   "metadata": {},
   "outputs": [],
   "source": [
    "import csv # para almacenar datos en diccionarios\n",
    "\n",
    "datos_edificio = []\n",
    "ruta = \"./data.csv\" # colocaremos la relativa (aunque la recomendada es completa para multiplataforma)\n"
   ]
  },
  {
   "cell_type": "code",
   "execution_count": 2,
   "id": "d26fbd3c",
   "metadata": {},
   "outputs": [
    {
     "name": "stdout",
     "output_type": "stream",
     "text": [
      "<class 'csv.DictReader'>\n"
     ]
    }
   ],
   "source": [
    "with open(ruta, \"r\", encoding=\"utf-8\") as f:\n",
    "    lector = csv.DictReader(f, delimiter=\",\") # leer todos los datos\n",
    "    print(type(lector))\n",
    "    for row in lector:\n",
    "        data = {\n",
    "            \"PISO\": int(row[\"Pisos\"]),\n",
    "            \"Modo_1\": float(row[\" Modo 1\"]),\n",
    "            \"Modo_2\": float(row[\" Modo 2\"]),\n",
    "            \"Modo_3\": float(row[\" Modo 3\"]),\n",
    "            \"Masa\": float(row[\" Masa\"])\n",
    "        }\n",
    "\n",
    "        datos_edificio.append(data)\n",
    "\n"
   ]
  },
  {
   "cell_type": "code",
   "execution_count": 8,
   "id": "537dd2c3",
   "metadata": {},
   "outputs": [
    {
     "data": {
      "text/plain": [
       "list"
      ]
     },
     "execution_count": 8,
     "metadata": {},
     "output_type": "execute_result"
    }
   ],
   "source": [
    "type(datos_edificio)"
   ]
  },
  {
   "cell_type": "code",
   "execution_count": 7,
   "id": "e801891b",
   "metadata": {},
   "outputs": [],
   "source": [
    "import pandas as pd"
   ]
  },
  {
   "cell_type": "code",
   "execution_count": null,
   "id": "ef1987f8",
   "metadata": {},
   "outputs": [],
   "source": [
    "raw_data = pd.csv()"
   ]
  },
  {
   "cell_type": "code",
   "execution_count": null,
   "id": "31590f05",
   "metadata": {},
   "outputs": [
    {
     "ename": "TypeError",
     "evalue": "'RangeIndex' object is not callable",
     "output_type": "error",
     "traceback": [
      "\u001b[31m---------------------------------------------------------------------------\u001b[39m",
      "\u001b[31mTypeError\u001b[39m                                 Traceback (most recent call last)",
      "\u001b[36mCell\u001b[39m\u001b[36m \u001b[39m\u001b[32mIn[20]\u001b[39m\u001b[32m, line 1\u001b[39m\n\u001b[32m----> \u001b[39m\u001b[32m1\u001b[39m \u001b[43mpd\u001b[49m\u001b[43m.\u001b[49m\u001b[43mDataFrame\u001b[49m\u001b[43m(\u001b[49m\u001b[43mdatos_edificio\u001b[49m\u001b[43m)\u001b[49m\u001b[43m.\u001b[49m\u001b[43mindex\u001b[49m\u001b[43m(\u001b[49m\u001b[32;43m0\u001b[39;49m\u001b[43m)\u001b[49m\n",
      "\u001b[31mTypeError\u001b[39m: 'RangeIndex' object is not callable"
     ]
    }
   ],
   "source": [
    "pd.DataFrame(datos_edificio)"
   ]
  },
  {
   "cell_type": "code",
   "execution_count": null,
   "id": "4c3df879",
   "metadata": {},
   "outputs": [],
   "source": []
  }
 ],
 "metadata": {
  "kernelspec": {
   "display_name": "structuralEng",
   "language": "python",
   "name": "python3"
  },
  "language_info": {
   "codemirror_mode": {
    "name": "ipython",
    "version": 3
   },
   "file_extension": ".py",
   "mimetype": "text/x-python",
   "name": "python",
   "nbconvert_exporter": "python",
   "pygments_lexer": "ipython3",
   "version": "3.13.2"
  }
 },
 "nbformat": 4,
 "nbformat_minor": 5
}
